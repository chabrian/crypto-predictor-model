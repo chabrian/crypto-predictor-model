{
 "cells": [
  {
   "cell_type": "markdown",
   "id": "572db4d4",
   "metadata": {},
   "source": [
    "# Price Predictor Linear Regression Model"
   ]
  },
  {
   "cell_type": "code",
   "execution_count": 1,
   "id": "e0f1c694",
   "metadata": {},
   "outputs": [],
   "source": [
    "import pandas as pd\n",
    "from pathlib import Path\n",
    "import matplotlib.pyplot as plt\n",
    "from sklearn.linear_model import LinearRegression"
   ]
  },
  {
   "cell_type": "markdown",
   "id": "ec9daccb",
   "metadata": {},
   "source": [
    "## Load in data"
   ]
  },
  {
   "cell_type": "code",
   "execution_count": 2,
   "id": "e4f56a7d",
   "metadata": {},
   "outputs": [
    {
     "data": {
      "text/html": [
       "<div>\n",
       "<style scoped>\n",
       "    .dataframe tbody tr th:only-of-type {\n",
       "        vertical-align: middle;\n",
       "    }\n",
       "\n",
       "    .dataframe tbody tr th {\n",
       "        vertical-align: top;\n",
       "    }\n",
       "\n",
       "    .dataframe thead th {\n",
       "        text-align: right;\n",
       "    }\n",
       "</style>\n",
       "<table border=\"1\" class=\"dataframe\">\n",
       "  <thead>\n",
       "    <tr style=\"text-align: right;\">\n",
       "      <th></th>\n",
       "      <th>Date</th>\n",
       "      <th>Open</th>\n",
       "      <th>High</th>\n",
       "      <th>Low</th>\n",
       "      <th>Close</th>\n",
       "      <th>Volume</th>\n",
       "      <th>Market Cap</th>\n",
       "    </tr>\n",
       "  </thead>\n",
       "  <tbody>\n",
       "    <tr>\n",
       "      <th>0</th>\n",
       "      <td>Apr-26-2022</td>\n",
       "      <td>0.897602</td>\n",
       "      <td>0.900668</td>\n",
       "      <td>0.819120</td>\n",
       "      <td>0.824140</td>\n",
       "      <td>1.311330e+09</td>\n",
       "      <td>2.730421e+10</td>\n",
       "    </tr>\n",
       "    <tr>\n",
       "      <th>1</th>\n",
       "      <td>Apr-25-2022</td>\n",
       "      <td>0.885730</td>\n",
       "      <td>0.899764</td>\n",
       "      <td>0.830142</td>\n",
       "      <td>0.898860</td>\n",
       "      <td>1.175064e+09</td>\n",
       "      <td>2.721793e+10</td>\n",
       "    </tr>\n",
       "    <tr>\n",
       "      <th>2</th>\n",
       "      <td>Apr-24-2022</td>\n",
       "      <td>0.887093</td>\n",
       "      <td>0.897949</td>\n",
       "      <td>0.880130</td>\n",
       "      <td>0.885290</td>\n",
       "      <td>5.521224e+08</td>\n",
       "      <td>2.800958e+10</td>\n",
       "    </tr>\n",
       "    <tr>\n",
       "      <th>3</th>\n",
       "      <td>Apr-23-2022</td>\n",
       "      <td>0.906163</td>\n",
       "      <td>0.910934</td>\n",
       "      <td>0.883990</td>\n",
       "      <td>0.888474</td>\n",
       "      <td>7.555170e+08</td>\n",
       "      <td>2.826530e+10</td>\n",
       "    </tr>\n",
       "    <tr>\n",
       "      <th>4</th>\n",
       "      <td>Apr-22-2022</td>\n",
       "      <td>0.909063</td>\n",
       "      <td>0.923691</td>\n",
       "      <td>0.894321</td>\n",
       "      <td>0.907236</td>\n",
       "      <td>1.201371e+09</td>\n",
       "      <td>2.867515e+10</td>\n",
       "    </tr>\n",
       "  </tbody>\n",
       "</table>\n",
       "</div>"
      ],
      "text/plain": [
       "          Date      Open      High       Low     Close        Volume  \\\n",
       "0  Apr-26-2022  0.897602  0.900668  0.819120  0.824140  1.311330e+09   \n",
       "1  Apr-25-2022  0.885730  0.899764  0.830142  0.898860  1.175064e+09   \n",
       "2  Apr-24-2022  0.887093  0.897949  0.880130  0.885290  5.521224e+08   \n",
       "3  Apr-23-2022  0.906163  0.910934  0.883990  0.888474  7.555170e+08   \n",
       "4  Apr-22-2022  0.909063  0.923691  0.894321  0.907236  1.201371e+09   \n",
       "\n",
       "     Market Cap  \n",
       "0  2.730421e+10  \n",
       "1  2.721793e+10  \n",
       "2  2.800958e+10  \n",
       "3  2.826530e+10  \n",
       "4  2.867515e+10  "
      ]
     },
     "execution_count": 2,
     "metadata": {},
     "output_type": "execute_result"
    }
   ],
   "source": [
    "ada_df = pd.read_csv(Path('../cardano_2017-10-1_2022-4-27.csv'))\n",
    "ada_df.head()"
   ]
  },
  {
   "cell_type": "code",
   "execution_count": 3,
   "id": "e909cbf6",
   "metadata": {},
   "outputs": [
    {
     "data": {
      "text/plain": [
       "(1668, 7)"
      ]
     },
     "execution_count": 3,
     "metadata": {},
     "output_type": "execute_result"
    }
   ],
   "source": [
    "ada_df.shape"
   ]
  },
  {
   "cell_type": "code",
   "execution_count": 4,
   "id": "1f514ad1",
   "metadata": {},
   "outputs": [
    {
     "data": {
      "text/plain": [
       "Date           object\n",
       "Open          float64\n",
       "High          float64\n",
       "Low           float64\n",
       "Close         float64\n",
       "Volume        float64\n",
       "Market Cap    float64\n",
       "dtype: object"
      ]
     },
     "execution_count": 4,
     "metadata": {},
     "output_type": "execute_result"
    }
   ],
   "source": [
    "ada_df.dtypes"
   ]
  },
  {
   "cell_type": "markdown",
   "id": "71ce22fd",
   "metadata": {},
   "source": [
    "## Transform datatypes"
   ]
  },
  {
   "cell_type": "code",
   "execution_count": null,
   "id": "0ea8cf58",
   "metadata": {},
   "outputs": [],
   "source": []
  }
 ],
 "metadata": {
  "kernelspec": {
   "display_name": "mlenv",
   "language": "python",
   "name": "mlenv"
  },
  "language_info": {
   "codemirror_mode": {
    "name": "ipython",
    "version": 3
   },
   "file_extension": ".py",
   "mimetype": "text/x-python",
   "name": "python",
   "nbconvert_exporter": "python",
   "pygments_lexer": "ipython3",
   "version": "3.7.7"
  }
 },
 "nbformat": 4,
 "nbformat_minor": 5
}
